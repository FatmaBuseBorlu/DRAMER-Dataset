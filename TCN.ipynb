{
  "nbformat": 4,
  "nbformat_minor": 0,
  "metadata": {
    "colab": {
      "provenance": [],
      "authorship_tag": "ABX9TyNCLc/DkDKt/NKfLu/Hs0e+",
      "include_colab_link": true
    },
    "kernelspec": {
      "name": "python3",
      "display_name": "Python 3"
    },
    "language_info": {
      "name": "python"
    }
  },
  "cells": [
    {
      "cell_type": "markdown",
      "metadata": {
        "id": "view-in-github",
        "colab_type": "text"
      },
      "source": [
        "<a href=\"https://colab.research.google.com/github/FatmaBuseBorlu/DRAMER-Dataset/blob/main/TCN.ipynb\" target=\"_parent\"><img src=\"https://colab.research.google.com/assets/colab-badge.svg\" alt=\"Open In Colab\"/></a>"
      ]
    },
    {
      "cell_type": "code",
      "execution_count": 5,
      "metadata": {
        "id": "cGazt-Wfz3w4"
      },
      "outputs": [],
      "source": [
        "from IPython import get_ipython\n",
        "from IPython.display import display\n",
        "import torch\n",
        "import torch.nn as nn\n",
        "import torch.optim as optim\n",
        "import torch.nn.functional as F\n",
        "from torch.utils.data import DataLoader, random_split\n",
        "from sklearn.metrics import accuracy_score, confusion_matrix, f1_score\n",
        "import matplotlib.pyplot as plt\n",
        "import seaborn as sns\n",
        "import random\n",
        "from torcheeg.datasets import DREAMERDataset\n",
        "from torcheeg import transforms\n",
        "from collections import Counter"
      ]
    },
    {
      "cell_type": "code",
      "source": [
        "# Google Drive Bağlantısı (eğer kullanıyorsanız)\n",
        "from google.colab import drive\n",
        "drive.mount('/content/drive')"
      ],
      "metadata": {
        "colab": {
          "base_uri": "https://localhost:8080/"
        },
        "id": "ifiCkqEl0mdT",
        "outputId": "b68ad79a-e30e-4216-826e-fe577de3fbdd"
      },
      "execution_count": 6,
      "outputs": [
        {
          "output_type": "stream",
          "name": "stdout",
          "text": [
            "Mounted at /content/drive\n"
          ]
        }
      ]
    },
    {
      "cell_type": "code",
      "source": [
        "# Veri setinin bulunduğu dizin\n",
        "dataset_path = \"/content/drive/MyDrive/Dramer/Kodlar/DREAMER.mat\""
      ],
      "metadata": {
        "id": "1LQlYyhG0m-m"
      },
      "execution_count": 7,
      "outputs": []
    },
    {
      "cell_type": "code",
      "source": [
        "# Veri Artırma: Flip ve Gürültü Ekleme\n",
        "class CustomRandomFlip:\n",
        "    def __init__(self, axis):\n",
        "        self.axis = axis\n",
        "\n",
        "    def __call__(self, eeg=None, **kwargs):\n",
        "        if eeg is not None and isinstance(eeg, torch.Tensor):\n",
        "            if random.random() > 0.5:\n",
        "                eeg = torch.flip(eeg, dims=(self.axis,))\n",
        "        return {**kwargs, 'eeg': eeg}\n",
        "\n",
        "offline_transform = transforms.Compose([\n",
        "    transforms.BaselineRemoval(),\n",
        "    transforms.MeanStdNormalize(),\n",
        "    transforms.To2d(),\n",
        "    transforms.ToTensor(),\n",
        "    CustomRandomFlip(axis=2),\n",
        "    transforms.RandomNoise(std=0.02)\n",
        "])\n",
        "\n",
        "# Veri Seti Tanımı\n",
        "dataset_multi_label = DREAMERDataset(\n",
        "    io_path='./dreamer_multi_label_data',\n",
        "    mat_path=dataset_path,\n",
        "    offline_transform=offline_transform,\n",
        "    label_transform=transforms.Compose([\n",
        "        transforms.Select(['valence', 'arousal']),\n",
        "        transforms.Binary(3.0)\n",
        "    ]),\n",
        "    chunk_size=128,\n",
        "    baseline_chunk_size=128,\n",
        "    num_baseline=61,\n",
        "    num_worker=4\n",
        ")"
      ],
      "metadata": {
        "colab": {
          "base_uri": "https://localhost:8080/"
        },
        "id": "ieoTb7uW0oTT",
        "outputId": "caabebda-7d80-4a37-e96d-42e4d4066f60"
      },
      "execution_count": 8,
      "outputs": [
        {
          "output_type": "stream",
          "name": "stderr",
          "text": [
            "[2024-12-27 02:13:23] INFO (torcheeg/MainThread) 🔍 | Processing EEG data. Processed EEG data has been cached to \u001b[92m./dreamer_multi_label_data\u001b[0m.\n",
            "INFO:torcheeg:🔍 | Processing EEG data. Processed EEG data has been cached to \u001b[92m./dreamer_multi_label_data\u001b[0m.\n",
            "[2024-12-27 02:13:23] INFO (torcheeg/MainThread) ⏳ | Monitoring the detailed processing of a record for debugging. The processing of other records will only be reported in percentage to keep it clean.\n",
            "INFO:torcheeg:⏳ | Monitoring the detailed processing of a record for debugging. The processing of other records will only be reported in percentage to keep it clean.\n",
            "[PROCESS]:  52%|█████▏    | 12/23 [02:35<02:42, 14.77s/it]/usr/local/lib/python3.10/dist-packages/joblib/externals/loky/process_executor.py:752: UserWarning: A worker stopped while some jobs were given to the executor. This can be caused by a too short worker timeout or by a memory leak.\n",
            "  warnings.warn(\n",
            "[PROCESS]: 100%|██████████| 23/23 [05:02<00:00, 13.16s/it]\n",
            "[2024-12-27 02:21:02] INFO (torcheeg/MainThread) ✅ | All processed EEG data has been cached to ./dreamer_multi_label_data.\n",
            "INFO:torcheeg:✅ | All processed EEG data has been cached to ./dreamer_multi_label_data.\n",
            "[2024-12-27 02:21:02] INFO (torcheeg/MainThread) 😊 | Please set \u001b[92mio_path\u001b[0m to \u001b[92m./dreamer_multi_label_data\u001b[0m for the next run, to directly read from the cache if you wish to skip the data processing step.\n",
            "INFO:torcheeg:😊 | Please set \u001b[92mio_path\u001b[0m to \u001b[92m./dreamer_multi_label_data\u001b[0m for the next run, to directly read from the cache if you wish to skip the data processing step.\n"
          ]
        }
      ]
    },
    {
      "cell_type": "code",
      "source": [
        "# Veri setini eğitim ve test için bölme\n",
        "data_size_multi = len(dataset_multi_label)\n",
        "train_size_multi = int(0.8 * data_size_multi)\n",
        "test_size_multi = data_size_multi - train_size_multi\n",
        "train_dataset_multi, test_dataset_multi = random_split(dataset_multi_label, [train_size_multi, test_size_multi])"
      ],
      "metadata": {
        "id": "iu8B-yEz0r4a"
      },
      "execution_count": 9,
      "outputs": []
    },
    {
      "cell_type": "code",
      "source": [
        "# Veri yükleyiciler\n",
        "train_loader_multi = DataLoader(train_dataset_multi, batch_size=32, shuffle=True)\n",
        "test_loader_multi = DataLoader(test_dataset_multi, batch_size=32, shuffle=False)"
      ],
      "metadata": {
        "id": "jeVtAJr10t3i"
      },
      "execution_count": 10,
      "outputs": []
    },
    {
      "cell_type": "code",
      "source": [
        "# Sınıf Ağırlıklarını Hesaplama\n",
        "def calculate_class_weights(dataset):\n",
        "    valence_labels = []\n",
        "    arousal_labels = []\n",
        "\n",
        "    for _, label in dataset:\n",
        "        valence_labels.append(label[0])\n",
        "        arousal_labels.append(label[1])\n",
        "\n",
        "    valence_counts = Counter(valence_labels)\n",
        "    arousal_counts = Counter(arousal_labels)\n",
        "\n",
        "    total_valence = sum(valence_counts.values())\n",
        "    total_arousal = sum(arousal_counts.values())\n",
        "\n",
        "    valence_weights = {cls: total_valence / count for cls, count in valence_counts.items()}\n",
        "    arousal_weights = {cls: total_arousal / count for cls, count in arousal_counts.items()}\n",
        "\n",
        "    valence_weight_tensor = torch.tensor(\n",
        "        [valence_weights[cls] for cls in sorted(valence_weights.keys())]\n",
        "    ).to(device)\n",
        "    arousal_weight_tensor = torch.tensor(\n",
        "        [arousal_weights[cls] for cls in sorted(arousal_weights.keys())]\n",
        "    ).to(device)\n",
        "\n",
        "    return valence_weight_tensor, arousal_weight_tensor\n",
        "\n",
        "# Sınıf ağırlıkları ve cihaz belirleme\n",
        "device = torch.device(\"cuda\" if torch.cuda.is_available() else \"cpu\")\n",
        "valence_weight_tensor, arousal_weight_tensor = calculate_class_weights(train_dataset_multi)\n",
        "valence_criterion = nn.CrossEntropyLoss(weight=valence_weight_tensor).to(device)\n",
        "arousal_criterion = nn.CrossEntropyLoss(weight=arousal_weight_tensor).to(device)"
      ],
      "metadata": {
        "id": "zicGpaNh0vVd"
      },
      "execution_count": 11,
      "outputs": []
    },
    {
      "cell_type": "code",
      "source": [
        "# TCN Modeli\n",
        "class TemporalBlock(nn.Module):\n",
        "    def __init__(self, in_channels, out_channels, kernel_size, stride, dilation, dropout):\n",
        "        super(TemporalBlock, self).__init__()\n",
        "        # Padding, giriş ve çıkış boyutlarının eşleşmesi için otomatik hesaplanır\n",
        "        padding = (kernel_size - 1) * dilation\n",
        "        self.conv1 = nn.Conv1d(in_channels, out_channels, kernel_size, stride=stride,\n",
        "                               padding=padding, dilation=dilation)\n",
        "        self.bn1 = nn.BatchNorm1d(out_channels)\n",
        "        self.dropout1 = nn.Dropout(dropout)\n",
        "\n",
        "        self.conv2 = nn.Conv1d(out_channels, out_channels, kernel_size, stride=stride,\n",
        "                               padding=padding, dilation=dilation)\n",
        "        self.bn2 = nn.BatchNorm1d(out_channels)\n",
        "        self.dropout2 = nn.Dropout(dropout)\n",
        "\n",
        "        # Residual bağlantı uyumu\n",
        "        self.downsample = nn.Conv1d(in_channels, out_channels, kernel_size=1) if in_channels != out_channels else None\n",
        "\n",
        "    def forward(self, x):\n",
        "        y = F.relu(self.bn1(self.conv1(x)))  # İlk Conv1d işlemi\n",
        "        y = self.dropout1(y)\n",
        "        y = F.relu(self.bn2(self.conv2(y)))  # İkinci Conv1d işlemi\n",
        "        y = self.dropout2(y)\n",
        "\n",
        "        # Giriş ve çıkış boyutları uyumlu değilse dönüştür\n",
        "        if self.downsample is not None:\n",
        "            x = self.downsample(x)\n",
        "\n",
        "        # Residual bağlantı - boyutları kontrol et ve gerekirse kırp\n",
        "        diff = x.shape[2] - y.shape[2]\n",
        "\n",
        "        if diff > 0:  # x daha uzunsa, x'i kırp\n",
        "            x = x[:, :, :y.shape[2]]\n",
        "        elif diff < 0:  # y daha uzunsa, y'yi kırp\n",
        "            y = y[:, :, :x.shape[2]]\n",
        "\n",
        "        return F.relu(x + y)\n",
        "\n",
        "class TCN(nn.Module):\n",
        "    def __init__(self, num_inputs, num_channels, kernel_size=2, dropout=0.3):\n",
        "        super(TCN, self).__init__()\n",
        "        layers = []\n",
        "        num_levels = len(num_channels)\n",
        "        for i in range(num_levels):\n",
        "            dilation_size = 2 ** i\n",
        "            in_channels = num_inputs if i == 0 else num_channels[i - 1]\n",
        "            out_channels = num_channels[i]\n",
        "            layers += [TemporalBlock(in_channels, out_channels, kernel_size, stride=1,\n",
        "                                     dilation=dilation_size, dropout=dropout)]\n",
        "        self.network = nn.Sequential(*layers)\n",
        "\n",
        "    def forward(self, x):\n",
        "        return self.network(x)\n",
        "\n",
        "class EEG_MultiLabel_Model_TCN(nn.Module):\n",
        "    def __init__(self, input_channels, num_classes_valence, num_classes_arousal, dropout_rate=0.3):\n",
        "        super(EEG_MultiLabel_Model_TCN, self).__init__()\n",
        "        self.tcn = TCN(num_inputs=input_channels, num_channels=[32, 64, 128, 256], kernel_size=3, dropout=dropout_rate)\n",
        "        self.fc_valence = nn.Linear(256, num_classes_valence)\n",
        "        self.fc_arousal = nn.Linear(256, num_classes_arousal)\n",
        "\n",
        "    def forward(self, x):\n",
        "        x = x.squeeze(1).permute(0, 2, 1)  # (B, C, T)\n",
        "        x = self.tcn(x)\n",
        "        x = torch.mean(x, dim=-1)  # Global Average Pooling\n",
        "        valence_output = self.fc_valence(x)\n",
        "        arousal_output = self.fc_arousal(x)\n",
        "        return valence_output, arousal_output\n",
        "\n",
        "# Model ve optimizer tanımı\n",
        "model_tcn = EEG_MultiLabel_Model_TCN(input_channels=128, num_classes_valence=2, num_classes_arousal=2, dropout_rate=0.3).to(device)\n",
        "optimizer_tcn = optim.AdamW(model_tcn.parameters(), lr=0.001, weight_decay=1e-5)\n",
        "scheduler_tcn = optim.lr_scheduler.CosineAnnealingWarmRestarts(optimizer_tcn, T_0=10, T_mult=2, eta_min=1e-5)"
      ],
      "metadata": {
        "id": "bOZbEaen0ynd"
      },
      "execution_count": 24,
      "outputs": []
    },
    {
      "cell_type": "code",
      "source": [
        "# Eğitim fonksiyonu\n",
        "def train_multi_label_epoch():\n",
        "    model_tcn.train()\n",
        "    running_loss = 0.0\n",
        "    for inputs, labels in train_loader_multi:\n",
        "        inputs = inputs.float().to(device)\n",
        "        labels = torch.stack(labels, dim=1).long().to(device)\n",
        "        inputs = inputs.unsqueeze(1) if inputs.dim() == 3 else inputs\n",
        "        optimizer_tcn.zero_grad()\n",
        "        valence_output, arousal_output = model_tcn(inputs)\n",
        "        loss_valence = valence_criterion(valence_output, labels[:, 0])\n",
        "        loss_arousal = arousal_criterion(arousal_output, labels[:, 1])\n",
        "        loss = loss_valence + loss_arousal\n",
        "        loss.backward()\n",
        "        optimizer_tcn.step()\n",
        "        running_loss += loss.item()\n",
        "    return running_loss / len(train_loader_multi)"
      ],
      "metadata": {
        "id": "nU4unXkh01rm"
      },
      "execution_count": 25,
      "outputs": []
    },
    {
      "cell_type": "code",
      "source": [
        "# Test fonksiyonu\n",
        "def test_multi_label_model():\n",
        "    model_tcn.eval()\n",
        "    running_loss, all_valence_preds, all_arousal_preds, all_labels = 0.0, [], [], []\n",
        "    with torch.no_grad():\n",
        "        for inputs, labels in test_loader_multi:\n",
        "            inputs = inputs.float().to(device)\n",
        "            labels = torch.stack(labels, dim=1).long().to(device)\n",
        "            inputs = inputs.unsqueeze(1) if inputs.dim() == 3 else inputs\n",
        "            valence_output, arousal_output = model_tcn(inputs)\n",
        "            loss_valence = valence_criterion(valence_output, labels[:, 0])\n",
        "            loss_arousal = arousal_criterion(arousal_output, labels[:, 1])\n",
        "            loss = loss_valence + loss_arousal\n",
        "            running_loss += loss.item()\n",
        "            _, valence_preds = torch.max(valence_output, 1)\n",
        "            _, arousal_preds = torch.max(arousal_output, 1)\n",
        "            all_valence_preds.extend(valence_preds.cpu().numpy())\n",
        "            all_arousal_preds.extend(arousal_preds.cpu().numpy())\n",
        "            all_labels.extend(labels.cpu().numpy())\n",
        "\n",
        "    avg_loss = running_loss / len(test_loader_multi)\n",
        "    valence_accuracy = accuracy_score([l[0] for l in all_labels], all_valence_preds)\n",
        "    arousal_accuracy = accuracy_score([l[1] for l in all_labels], all_arousal_preds)\n",
        "    valence_f1 = f1_score([l[0] for l in all_labels], all_valence_preds, average='weighted')\n",
        "    arousal_f1 = f1_score([l[1] for l in all_labels], all_arousal_preds, average='weighted')\n",
        "\n",
        "    return avg_loss, valence_accuracy, arousal_accuracy, valence_f1, arousal_f1, all_labels, all_valence_preds, all_arousal_preds"
      ],
      "metadata": {
        "id": "IfryIrAa03or"
      },
      "execution_count": 26,
      "outputs": []
    },
    {
      "cell_type": "code",
      "source": [
        "# Eğitim döngüsü\n",
        "epochs = 25\n",
        "train_losses = []\n",
        "test_losses = []\n",
        "\n",
        "for epoch in range(epochs):\n",
        "    train_loss = train_multi_label_epoch()\n",
        "    test_loss, valence_acc, arousal_acc, valence_f1, arousal_f1, _, _, _ = test_multi_label_model()\n",
        "    train_losses.append(train_loss)\n",
        "    test_losses.append(test_loss)\n",
        "\n",
        "    scheduler_tcn.step()\n",
        "\n",
        "    print(f\"Epoch {epoch+1}/{epochs}, Train Loss: {train_loss:.4f}, Test Loss: {test_loss:.4f}\")\n",
        "    print(f\"Valence Accuracy: {valence_acc:.4f}, Arousal Accuracy: {arousal_acc:.4f}\")\n",
        "    print(f\"Valence F1 Score: {valence_f1:.4f}, Arousal F1 Score: {arousal_f1:.4f}\")"
      ],
      "metadata": {
        "colab": {
          "base_uri": "https://localhost:8080/"
        },
        "id": "VS1iJA_J055N",
        "outputId": "7f528494-b2e3-424b-db0c-5bb8df56fafb"
      },
      "execution_count": 27,
      "outputs": [
        {
          "output_type": "stream",
          "name": "stdout",
          "text": [
            "Epoch 1/25, Train Loss: 1.3565, Test Loss: 1.3030\n",
            "Valence Accuracy: 0.5200, Arousal Accuracy: 0.6892\n",
            "Valence F1 Score: 0.5172, Arousal F1 Score: 0.7077\n",
            "Epoch 2/25, Train Loss: 1.2895, Test Loss: 1.2553\n",
            "Valence Accuracy: 0.5529, Arousal Accuracy: 0.6756\n",
            "Valence F1 Score: 0.5522, Arousal F1 Score: 0.6998\n",
            "Epoch 3/25, Train Loss: 1.2326, Test Loss: 1.2165\n",
            "Valence Accuracy: 0.5650, Arousal Accuracy: 0.6378\n",
            "Valence F1 Score: 0.5584, Arousal F1 Score: 0.6667\n",
            "Epoch 4/25, Train Loss: 1.1829, Test Loss: 1.1488\n",
            "Valence Accuracy: 0.6496, Arousal Accuracy: 0.7249\n",
            "Valence F1 Score: 0.6539, Arousal F1 Score: 0.7420\n",
            "Epoch 5/25, Train Loss: 1.1434, Test Loss: 1.1150\n",
            "Valence Accuracy: 0.6367, Arousal Accuracy: 0.7308\n",
            "Valence F1 Score: 0.6389, Arousal F1 Score: 0.7483\n",
            "Epoch 6/25, Train Loss: 1.1085, Test Loss: 1.0969\n",
            "Valence Accuracy: 0.7000, Arousal Accuracy: 0.6965\n",
            "Valence F1 Score: 0.6943, Arousal F1 Score: 0.7202\n",
            "Epoch 7/25, Train Loss: 1.0783, Test Loss: 1.0599\n",
            "Valence Accuracy: 0.6943, Arousal Accuracy: 0.7648\n",
            "Valence F1 Score: 0.6972, Arousal F1 Score: 0.7768\n",
            "Epoch 8/25, Train Loss: 1.0533, Test Loss: 1.0465\n",
            "Valence Accuracy: 0.7007, Arousal Accuracy: 0.7673\n",
            "Valence F1 Score: 0.7026, Arousal F1 Score: 0.7799\n",
            "Epoch 9/25, Train Loss: 1.0374, Test Loss: 1.0367\n",
            "Valence Accuracy: 0.6936, Arousal Accuracy: 0.7669\n",
            "Valence F1 Score: 0.6970, Arousal F1 Score: 0.7798\n",
            "Epoch 10/25, Train Loss: 1.0233, Test Loss: 1.0325\n",
            "Valence Accuracy: 0.7018, Arousal Accuracy: 0.7594\n",
            "Valence F1 Score: 0.7045, Arousal F1 Score: 0.7740\n",
            "Epoch 11/25, Train Loss: 1.0817, Test Loss: 1.0639\n",
            "Valence Accuracy: 0.7001, Arousal Accuracy: 0.7828\n",
            "Valence F1 Score: 0.7018, Arousal F1 Score: 0.7899\n",
            "Epoch 12/25, Train Loss: 1.0650, Test Loss: 1.0503\n",
            "Valence Accuracy: 0.7153, Arousal Accuracy: 0.7457\n",
            "Valence F1 Score: 0.7134, Arousal F1 Score: 0.7624\n",
            "Epoch 13/25, Train Loss: 1.0453, Test Loss: 1.0293\n",
            "Valence Accuracy: 0.7146, Arousal Accuracy: 0.7719\n",
            "Valence F1 Score: 0.7157, Arousal F1 Score: 0.7840\n",
            "Epoch 14/25, Train Loss: 1.0236, Test Loss: 1.0195\n",
            "Valence Accuracy: 0.7037, Arousal Accuracy: 0.7728\n",
            "Valence F1 Score: 0.7070, Arousal F1 Score: 0.7846\n",
            "Epoch 15/25, Train Loss: 1.0042, Test Loss: 1.0033\n",
            "Valence Accuracy: 0.6985, Arousal Accuracy: 0.7785\n",
            "Valence F1 Score: 0.7021, Arousal F1 Score: 0.7899\n",
            "Epoch 16/25, Train Loss: 0.9844, Test Loss: 0.9902\n",
            "Valence Accuracy: 0.7314, Arousal Accuracy: 0.7557\n",
            "Valence F1 Score: 0.7311, Arousal F1 Score: 0.7722\n",
            "Epoch 17/25, Train Loss: 0.9649, Test Loss: 0.9810\n",
            "Valence Accuracy: 0.6962, Arousal Accuracy: 0.7694\n",
            "Valence F1 Score: 0.6996, Arousal F1 Score: 0.7841\n",
            "Epoch 18/25, Train Loss: 0.9467, Test Loss: 0.9582\n",
            "Valence Accuracy: 0.7442, Arousal Accuracy: 0.7842\n",
            "Valence F1 Score: 0.7434, Arousal F1 Score: 0.7963\n",
            "Epoch 19/25, Train Loss: 0.9283, Test Loss: 0.9448\n",
            "Valence Accuracy: 0.7299, Arousal Accuracy: 0.7828\n",
            "Valence F1 Score: 0.7332, Arousal F1 Score: 0.7952\n",
            "Epoch 20/25, Train Loss: 0.9069, Test Loss: 0.9426\n",
            "Valence Accuracy: 0.7213, Arousal Accuracy: 0.7604\n",
            "Valence F1 Score: 0.7247, Arousal F1 Score: 0.7774\n",
            "Epoch 21/25, Train Loss: 0.8935, Test Loss: 0.9232\n",
            "Valence Accuracy: 0.7387, Arousal Accuracy: 0.7955\n",
            "Valence F1 Score: 0.7413, Arousal F1 Score: 0.8059\n",
            "Epoch 22/25, Train Loss: 0.8783, Test Loss: 0.9165\n",
            "Valence Accuracy: 0.7438, Arousal Accuracy: 0.8013\n",
            "Valence F1 Score: 0.7464, Arousal F1 Score: 0.8108\n",
            "Epoch 23/25, Train Loss: 0.8608, Test Loss: 0.9125\n",
            "Valence Accuracy: 0.7516, Arousal Accuracy: 0.7865\n",
            "Valence F1 Score: 0.7536, Arousal F1 Score: 0.7995\n",
            "Epoch 24/25, Train Loss: 0.8456, Test Loss: 0.9045\n",
            "Valence Accuracy: 0.7571, Arousal Accuracy: 0.7866\n",
            "Valence F1 Score: 0.7587, Arousal F1 Score: 0.7995\n",
            "Epoch 25/25, Train Loss: 0.8323, Test Loss: 0.8985\n",
            "Valence Accuracy: 0.7519, Arousal Accuracy: 0.7961\n",
            "Valence F1 Score: 0.7543, Arousal F1 Score: 0.8076\n"
          ]
        }
      ]
    },
    {
      "cell_type": "code",
      "source": [
        "# Test Sonuçları ve Görselleştirme\n",
        "def plot_results(train_losses, test_losses):\n",
        "    plt.figure(figsize=(10, 5))\n",
        "    plt.plot(train_losses, label='Train Loss')\n",
        "    plt.plot(test_losses, label='Test Loss')\n",
        "    plt.xlabel('Epochs')\n",
        "    plt.ylabel('Loss')\n",
        "    plt.title('Train vs Test Loss')\n",
        "    plt.legend()\n",
        "    plt.show()\n",
        "\n",
        "plot_results(train_losses, test_losses)"
      ],
      "metadata": {
        "colab": {
          "base_uri": "https://localhost:8080/",
          "height": 445
        },
        "id": "mdwj6vSQ08_T",
        "outputId": "7164b47e-d8b6-4272-afdb-a5722099c3e9"
      },
      "execution_count": 28,
      "outputs": [
        {
          "output_type": "display_data",
          "data": {
            "text/plain": [
              "<Figure size 1000x500 with 1 Axes>"
            ],
            "image/png": "[encoded data removed]"
          },
          "metadata": {}
        }
      ]
    }
  ]
}